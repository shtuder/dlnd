{
 "cells": [
  {
   "cell_type": "markdown",
   "metadata": {
    "collapsed": true,
    "deletable": true,
    "editable": true
   },
   "source": [
    "# Image Classification\n",
    "In this project, you'll classify images from the [CIFAR-10 dataset](https://www.cs.toronto.edu/~kriz/cifar.html).  The dataset consists of airplanes, dogs, cats, and other objects. You'll preprocess the images, then train a convolutional neural network on all the samples. The images need to be normalized and the labels need to be one-hot encoded.  You'll get to apply what you learned and build a convolutional, max pooling, dropout, and fully connected layers.  At the end, you'll get to see your neural network's predictions on the sample images.\n",
    "## Get the Data\n",
    "Run the following cell to download the [CIFAR-10 dataset for python](https://www.cs.toronto.edu/~kriz/cifar-10-python.tar.gz)."
   ]
  },
  {
   "cell_type": "code",
   "execution_count": 1,
   "metadata": {
    "collapsed": false,
    "deletable": true,
    "editable": true
   },
   "outputs": [
    {
     "name": "stdout",
     "output_type": "stream",
     "text": [
      "All files found!\n"
     ]
    }
   ],
   "source": [
    "\"\"\"\n",
    "DON'T MODIFY ANYTHING IN THIS CELL THAT IS BELOW THIS LINE\n",
    "\"\"\"\n",
    "from urllib.request import urlretrieve\n",
    "from os.path import isfile, isdir\n",
    "from tqdm import tqdm\n",
    "import problem_unittests as tests\n",
    "import tarfile\n",
    "\n",
    "cifar10_dataset_folder_path = 'cifar-10-batches-py'\n",
    "\n",
    "class DLProgress(tqdm):\n",
    "    last_block = 0\n",
    "\n",
    "    def hook(self, block_num=1, block_size=1, total_size=None):\n",
    "        self.total = total_size\n",
    "        self.update((block_num - self.last_block) * block_size)\n",
    "        self.last_block = block_num\n",
    "\n",
    "if not isfile('cifar-10-python.tar.gz'):\n",
    "    with DLProgress(unit='B', unit_scale=True, miniters=1, desc='CIFAR-10 Dataset') as pbar:\n",
    "        urlretrieve(\n",
    "            'https://www.cs.toronto.edu/~kriz/cifar-10-python.tar.gz',\n",
    "            'cifar-10-python.tar.gz',\n",
    "            pbar.hook)\n",
    "\n",
    "if not isdir(cifar10_dataset_folder_path):\n",
    "    with tarfile.open('cifar-10-python.tar.gz') as tar:\n",
    "        tar.extractall()\n",
    "        tar.close()\n",
    "\n",
    "\n",
    "tests.test_folder_path(cifar10_dataset_folder_path)"
   ]
  },
  {
   "cell_type": "markdown",
   "metadata": {
    "deletable": true,
    "editable": true
   },
   "source": [
    "## Explore the Data\n",
    "The dataset is broken into batches to prevent your machine from running out of memory.  The CIFAR-10 dataset consists of 5 batches, named `data_batch_1`, `data_batch_2`, etc.. Each batch contains the labels and images that are one of the following:\n",
    "* airplane\n",
    "* automobile\n",
    "* bird\n",
    "* cat\n",
    "* deer\n",
    "* dog\n",
    "* frog\n",
    "* horse\n",
    "* ship\n",
    "* truck\n",
    "\n",
    "Understanding a dataset is part of making predictions on the data.  Play around with the code cell below by changing the `batch_id` and `sample_id`. The `batch_id` is the id for a batch (1-5). The `sample_id` is the id for a image and label pair in the batch.\n",
    "\n",
    "Ask yourself \"What are all possible labels?\", \"What is the range of values for the image data?\", \"Are the labels in order or random?\".  Answers to questions like these will help you preprocess the data and end up with better predictions."
   ]
  },
  {
   "cell_type": "code",
   "execution_count": 7,
   "metadata": {
    "collapsed": false,
    "deletable": true,
    "editable": true
   },
   "outputs": [
    {
     "name": "stdout",
     "output_type": "stream",
     "text": [
      "\n",
      "Stats of batch 2:\n",
      "Samples: 10000\n",
      "Label Counts: {0: 984, 1: 1007, 2: 1010, 3: 995, 4: 1010, 5: 988, 6: 1008, 7: 1026, 8: 987, 9: 985}\n",
      "First 20 Labels: [1, 6, 6, 8, 8, 3, 4, 6, 0, 6, 0, 3, 6, 6, 5, 4, 8, 3, 2, 6]\n",
      "\n",
      "Example of Image 10:\n",
      "Image - Min Value: 4 Max Value: 231\n",
      "Image - Shape: (32, 32, 3)\n",
      "Label - Label Id: 0 Name: airplane\n"
     ]
    },
    {
     "data": {
      "image/png": "[encoded data removed]",
      "text/plain": [
       "<matplotlib.figure.Figure at 0x7f1d263f84a8>"
      ]
     },
     "metadata": {
      "image/png": {
       "height": 250,
       "width": 253
      }
     },
     "output_type": "display_data"
    }
   ],
   "source": [
    "%matplotlib inline\n",
    "%config InlineBackend.figure_format = 'retina'\n",
    "\n",
    "import helper\n",
    "import numpy as np\n",
    "\n",
    "# Explore the dataset\n",
    "batch_id = 2\n",
    "sample_id = 10\n",
    "helper.display_stats(cifar10_dataset_folder_path, batch_id, sample_id)"
   ]
  },
  {
   "cell_type": "markdown",
   "metadata": {
    "deletable": true,
    "editable": true
   },
   "source": [
    "## Implement Preprocess Functions\n",
    "### Normalize\n",
    "In the cell below, implement the `normalize` function to take in image data, `x`, and return it as a normalized Numpy array. The values should be in the range of 0 to 1, inclusive.  The return object should be the same shape as `x`."
   ]
  },
  {
   "cell_type": "code",
   "execution_count": 13,
   "metadata": {
    "collapsed": false,
    "deletable": true,
    "editable": true
   },
   "outputs": [
    {
     "name": "stdout",
     "output_type": "stream",
     "text": [
      "Tests Passed\n"
     ]
    }
   ],
   "source": [
    "def normalize(x):\n",
    "    \"\"\"\n",
    "    Normalize a list of sample image data in the range of 0 to 1\n",
    "    : x: List of image data.  The image shape is (32, 32, 3)\n",
    "    : return: Numpy array of normalize data\n",
    "    \"\"\"\n",
    "    # TODO: Implement Function\n",
    "    z = (x)/256\n",
    "    return z\n",
    "\n",
    "\n",
    "\"\"\"\n",
    "DON'T MODIFY ANYTHING IN THIS CELL THAT IS BELOW THIS LINE\n",
    "\"\"\"\n",
    "tests.test_normalize(normalize)"
   ]
  },
  {
   "cell_type": "markdown",
   "metadata": {
    "deletable": true,
    "editable": true
   },
   "source": [
    "### One-hot encode\n",
    "Just like the previous code cell, you'll be implementing a function for preprocessing.  This time, you'll implement the `one_hot_encode` function. The input, `x`, are a list of labels.  Implement the function to return the list of labels as One-Hot encoded Numpy array.  The possible values for labels are 0 to 9. The one-hot encoding function should return the same encoding for each value between each call to `one_hot_encode`.  Make sure to save the map of encodings outside the function.\n",
    "\n",
    "Hint: Don't reinvent the wheel."
   ]
  },
  {
   "cell_type": "code",
   "execution_count": 41,
   "metadata": {
    "collapsed": false,
    "deletable": true,
    "editable": true
   },
   "outputs": [
    {
     "name": "stdout",
     "output_type": "stream",
     "text": [
      "Tests Passed\n"
     ]
    }
   ],
   "source": [
    "def one_hot_encode(x):\n",
    "    \"\"\"\n",
    "    One hot encode a list of sample labels. Return a one-hot encoded vector for each label.\n",
    "    : x: List of sample Labels\n",
    "    : return: Numpy array of one-hot encoded labels\n",
    "    \"\"\"\n",
    "    # TODO: Implement Function\n",
    "    encode = np.zeros(shape=(len(x), 10))\n",
    "    for i in range(len(x)):\n",
    "        encode[i, x[i]] = 1\n",
    "    return encode\n",
    "\n",
    "\n",
    "\"\"\"\n",
    "DON'T MODIFY ANYTHING IN THIS CELL THAT IS BELOW THIS LINE\n",
    "\"\"\"\n",
    "tests.test_one_hot_encode(one_hot_encode)"
   ]
  },
  {
   "cell_type": "markdown",
   "metadata": {
    "deletable": true,
    "editable": true
   },
   "source": [
    "### Randomize Data\n",
    "As you saw from exploring the data above, the order of the samples are randomized.  It doesn't hurt to randomize it again, but you don't need to for this dataset."
   ]
  },
  {
   "cell_type": "markdown",
   "metadata": {
    "deletable": true,
    "editable": true
   },
   "source": [
    "## Preprocess all the data and save it\n",
    "Running the code cell below will preprocess all the CIFAR-10 data and save it to file. The code below also uses 10% of the training data for validation."
   ]
  },
  {
   "cell_type": "code",
   "execution_count": 2,
   "metadata": {
    "collapsed": false,
    "deletable": true,
    "editable": true
   },
   "outputs": [
    {
     "ename": "NameError",
     "evalue": "name 'helper' is not defined",
     "output_type": "error",
     "traceback": [
      "\u001b[0;31m---------------------------------------------------------------------------\u001b[0m",
      "\u001b[0;31mNameError\u001b[0m                                 Traceback (most recent call last)",
      "\u001b[0;32m<ipython-input-2-2e43b03e04f3>\u001b[0m in \u001b[0;36m<module>\u001b[0;34m()\u001b[0m\n\u001b[1;32m      3\u001b[0m \"\"\"\n\u001b[1;32m      4\u001b[0m \u001b[0;31m# Preprocess Training, Validation, and Testing Data\u001b[0m\u001b[0;34m\u001b[0m\u001b[0;34m\u001b[0m\u001b[0m\n\u001b[0;32m----> 5\u001b[0;31m \u001b[0mhelper\u001b[0m\u001b[0;34m.\u001b[0m\u001b[0mpreprocess_and_save_data\u001b[0m\u001b[0;34m(\u001b[0m\u001b[0mcifar10_dataset_folder_path\u001b[0m\u001b[0;34m,\u001b[0m \u001b[0mnormalize\u001b[0m\u001b[0;34m,\u001b[0m \u001b[0mone_hot_encode\u001b[0m\u001b[0;34m)\u001b[0m\u001b[0;34m\u001b[0m\u001b[0m\n\u001b[0m",
      "\u001b[0;31mNameError\u001b[0m: name 'helper' is not defined"
     ]
    }
   ],
   "source": [
    "\"\"\"\n",
    "DON'T MODIFY ANYTHING IN THIS CELL\n",
    "\"\"\"\n",
    "# Preprocess Training, Validation, and Testing Data\n",
    "helper.preprocess_and_save_data(cifar10_dataset_folder_path, normalize, one_hot_encode)"
   ]
  },
  {
   "cell_type": "markdown",
   "metadata": {
    "deletable": true,
    "editable": true
   },
   "source": [
    "# Check Point\n",
    "This is your first checkpoint.  If you ever decide to come back to this notebook or have to restart the notebook, you can start from here.  The preprocessed data has been saved to disk."
   ]
  },
  {
   "cell_type": "code",
   "execution_count": 2,
   "metadata": {
    "collapsed": true,
    "deletable": true,
    "editable": true
   },
   "outputs": [],
   "source": [
    "\"\"\"\n",
    "DON'T MODIFY ANYTHING IN THIS CELL\n",
    "\"\"\"\n",
    "import pickle\n",
    "import problem_unittests as tests\n",
    "import helper\n",
    "\n",
    "# Load the Preprocessed Validation data\n",
    "valid_features, valid_labels = pickle.load(open('preprocess_validation.p', mode='rb'))"
   ]
  },
  {
   "cell_type": "markdown",
   "metadata": {
    "deletable": true,
    "editable": true
   },
   "source": [
    "## Build the network\n",
    "For the neural network, you'll build each layer into a function.  Most of the code you've seen has been outside of functions. To test your code more thoroughly, we require that you put each layer in a function.  This allows us to give you better feedback and test for simple mistakes using our unittests before you submit your project.\n",
    "\n",
    ">**Note:** If you're finding it hard to dedicate enough time for this course each week, we've provided a small shortcut to this part of the project. In the next couple of problems, you'll have the option to use classes from the [TensorFlow Layers](https://www.tensorflow.org/api_docs/python/tf/layers) or [TensorFlow Layers (contrib)](https://www.tensorflow.org/api_guides/python/contrib.layers) packages to build each layer, except the layers you build in the \"Convolutional and Max Pooling Layer\" section.  TF Layers is similar to Keras's and TFLearn's abstraction to layers, so it's easy to pickup.\n",
    "\n",
    ">However, if you would like to get the most out of this course, try to solve all the problems _without_ using anything from the TF Layers packages. You **can** still use classes from other packages that happen to have the same name as ones you find in TF Layers! For example, instead of using the TF Layers version of the `conv2d` class, [tf.layers.conv2d](https://www.tensorflow.org/api_docs/python/tf/layers/conv2d), you would want to use the TF Neural Network version of `conv2d`, [tf.nn.conv2d](https://www.tensorflow.org/api_docs/python/tf/nn/conv2d). \n",
    "\n",
    "Let's begin!\n",
    "\n",
    "### Input\n",
    "The neural network needs to read the image data, one-hot encoded labels, and dropout keep probability. Implement the following functions\n",
    "* Implement `neural_net_image_input`\n",
    " * Return a [TF Placeholder](https://www.tensorflow.org/api_docs/python/tf/placeholder)\n",
    " * Set the shape using `image_shape` with batch size set to `None`.\n",
    " * Name the TensorFlow placeholder \"x\" using the TensorFlow `name` parameter in the [TF Placeholder](https://www.tensorflow.org/api_docs/python/tf/placeholder).\n",
    "* Implement `neural_net_label_input`\n",
    " * Return a [TF Placeholder](https://www.tensorflow.org/api_docs/python/tf/placeholder)\n",
    " * Set the shape using `n_classes` with batch size set to `None`.\n",
    " * Name the TensorFlow placeholder \"y\" using the TensorFlow `name` parameter in the [TF Placeholder](https://www.tensorflow.org/api_docs/python/tf/placeholder).\n",
    "* Implement `neural_net_keep_prob_input`\n",
    " * Return a [TF Placeholder](https://www.tensorflow.org/api_docs/python/tf/placeholder) for dropout keep probability.\n",
    " * Name the TensorFlow placeholder \"keep_prob\" using the TensorFlow `name` parameter in the [TF Placeholder](https://www.tensorflow.org/api_docs/python/tf/placeholder).\n",
    "\n",
    "These names will be used at the end of the project to load your saved model.\n",
    "\n",
    "Note: `None` for shapes in TensorFlow allow for a dynamic size."
   ]
  },
  {
   "cell_type": "code",
   "execution_count": 3,
   "metadata": {
    "collapsed": false,
    "deletable": true,
    "editable": true
   },
   "outputs": [
    {
     "name": "stdout",
     "output_type": "stream",
     "text": [
      "Image Input Tests Passed.\n",
      "Label Input Tests Passed.\n",
      "Keep Prob Tests Passed.\n"
     ]
    }
   ],
   "source": [
    "import tensorflow as tf\n",
    "\n",
    "def neural_net_image_input(image_shape):\n",
    "    \"\"\"\n",
    "    Return a Tensor for a batch of image input\n",
    "    : image_shape: Shape of the images\n",
    "    : return: Tensor for image input.\n",
    "    \"\"\"\n",
    "    # TODO: Implement Function\n",
    "    features = tf.placeholder(tf.float32, [None, image_shape[0], image_shape[1], image_shape[2]], name=\"x\")\n",
    "    return features\n",
    "\n",
    "\n",
    "def neural_net_label_input(n_classes):\n",
    "    \"\"\"\n",
    "    Return a Tensor for a batch of label input\n",
    "    : n_classes: Number of classes\n",
    "    : return: Tensor for label input.\n",
    "    \"\"\"\n",
    "    # TODO: Implement Function\n",
    "    labels = tf.placeholder(tf.float32, [None, n_classes], name=\"y\")\n",
    "    return labels\n",
    "\n",
    "\n",
    "def neural_net_keep_prob_input():\n",
    "    \"\"\"\n",
    "    Return a Tensor for keep probability\n",
    "    : return: Tensor for keep probability.\n",
    "    \"\"\"\n",
    "    # TODO: Implement Function\n",
    "    keep_prob = tf.placeholder(tf.float32, name=\"keep_prob\")\n",
    "    return keep_prob\n",
    "\n",
    "\n",
    "\"\"\"\n",
    "DON'T MODIFY ANYTHING IN THIS CELL THAT IS BELOW THIS LINE\n",
    "\"\"\"\n",
    "tf.reset_default_graph()\n",
    "tests.test_nn_image_inputs(neural_net_image_input)\n",
    "tests.test_nn_label_inputs(neural_net_label_input)\n",
    "tests.test_nn_keep_prob_inputs(neural_net_keep_prob_input)"
   ]
  },
  {
   "cell_type": "markdown",
   "metadata": {
    "deletable": true,
    "editable": true
   },
   "source": [
    "### Convolution and Max Pooling Layer\n",
    "Convolution layers have a lot of success with images. For this code cell, you should implement the function `conv2d_maxpool` to apply convolution then max pooling:\n",
    "* Create the weight and bias using `conv_ksize`, `conv_num_outputs` and the shape of `x_tensor`.\n",
    "* Apply a convolution to `x_tensor` using weight and `conv_strides`.\n",
    " * We recommend you use same padding, but you're welcome to use any padding.\n",
    "* Add bias\n",
    "* Add a nonlinear activation to the convolution.\n",
    "* Apply Max Pooling using `pool_ksize` and `pool_strides`.\n",
    " * We recommend you use same padding, but you're welcome to use any padding.\n",
    "\n",
    "**Note:** You **can't** use [TensorFlow Layers](https://www.tensorflow.org/api_docs/python/tf/layers) or [TensorFlow Layers (contrib)](https://www.tensorflow.org/api_guides/python/contrib.layers) for **this** layer, but you can still use TensorFlow's [Neural Network](https://www.tensorflow.org/api_docs/python/tf/nn) package. You may still use the shortcut option for all the **other** layers."
   ]
  },
  {
   "cell_type": "code",
   "execution_count": 4,
   "metadata": {
    "collapsed": false,
    "deletable": true,
    "editable": true
   },
   "outputs": [
    {
     "name": "stdout",
     "output_type": "stream",
     "text": [
      "Tests Passed\n"
     ]
    }
   ],
   "source": [
    "def conv2d_maxpool(x_tensor, conv_num_outputs, conv_ksize, conv_strides, pool_ksize, pool_strides):\n",
    "    \"\"\"\n",
    "    Apply convolution then max pooling to x_tensor\n",
    "    :param x_tensor: TensorFlow Tensor\n",
    "    :param conv_num_outputs: Number of outputs for the convolutional layer\n",
    "    :param conv_ksize: kernal size 2-D Tuple for the convolutional layer\n",
    "    :param conv_strides: Stride 2-D Tuple for convolution\n",
    "    :param pool_ksize: kernal size 2-D Tuple for pool\n",
    "    :param pool_strides: Stride 2-D Tuple for pool\n",
    "    : return: A tensor that represents convolution and max pooling of x_tensor\n",
    "    \"\"\"\n",
    "    # TODO: Implement Function\n",
    "    weights = tf.Variable(tf.truncated_normal([conv_ksize[0], conv_ksize[1], x_tensor.get_shape().as_list()[-1]\\\n",
    "                                               , conv_num_outputs]))\n",
    "    bias = tf.Variable(tf.zeros(conv_num_outputs))\n",
    "    \n",
    "    conv_layer = tf.nn.conv2d(x_tensor, weights, strides=[1, conv_strides[0], conv_strides[1], 1], padding='SAME')\n",
    "    conv_layer = tf.nn.bias_add(conv_layer, bias)\n",
    "    conv_layer = tf.nn.relu(conv_layer)\n",
    "    \n",
    "    conv_layer = tf.nn.max_pool(conv_layer, ksize=[1, pool_ksize[0], pool_ksize[1], 1], strides=[1, pool_strides[0],\\\n",
    "                                pool_strides[1], 1], padding='SAME')\n",
    "    return conv_layer \n",
    "\n",
    "\n",
    "\"\"\"\n",
    "DON'T MODIFY ANYTHING IN THIS CELL THAT IS BELOW THIS LINE\n",
    "\"\"\"\n",
    "tests.test_con_pool(conv2d_maxpool)"
   ]
  },
  {
   "cell_type": "markdown",
   "metadata": {
    "deletable": true,
    "editable": true
   },
   "source": [
    "### Flatten Layer\n",
    "Implement the `flatten` function to change the dimension of `x_tensor` from a 4-D tensor to a 2-D tensor.  The output should be the shape (*Batch Size*, *Flattened Image Size*). Shortcut option: you can use classes from the [TensorFlow Layers](https://www.tensorflow.org/api_docs/python/tf/layers) or [TensorFlow Layers (contrib)](https://www.tensorflow.org/api_guides/python/contrib.layers) packages for this layer. For more of a challenge, only use other TensorFlow packages."
   ]
  },
  {
   "cell_type": "code",
   "execution_count": 5,
   "metadata": {
    "collapsed": false,
    "deletable": true,
    "editable": true
   },
   "outputs": [
    {
     "name": "stdout",
     "output_type": "stream",
     "text": [
      "Tests Passed\n"
     ]
    }
   ],
   "source": [
    "def flatten(x_tensor):\n",
    "    \"\"\"\n",
    "    Flatten x_tensor to (Batch Size, Flattened Image Size)\n",
    "    : x_tensor: A tensor of size (Batch Size, ...), where ... are the image dimensions.\n",
    "    : return: A tensor of size (Batch Size, Flattened Image Size).\n",
    "    \"\"\"\n",
    "    # TODO: Implement Function\n",
    "    shape = x_tensor.get_shape().as_list();\n",
    "    dim = int(shape[1] * shape[2] * shape[3])\n",
    "    return tf.reshape(x_tensor, [-1, dim])\n",
    "\n",
    "\n",
    "\"\"\"\n",
    "DON'T MODIFY ANYTHING IN THIS CELL THAT IS BELOW THIS LINE\n",
    "\"\"\"\n",
    "tests.test_flatten(flatten)"
   ]
  },
  {
   "cell_type": "markdown",
   "metadata": {
    "deletable": true,
    "editable": true
   },
   "source": [
    "### Fully-Connected Layer\n",
    "Implement the `fully_conn` function to apply a fully connected layer to `x_tensor` with the shape (*Batch Size*, *num_outputs*). Shortcut option: you can use classes from the [TensorFlow Layers](https://www.tensorflow.org/api_docs/python/tf/layers) or [TensorFlow Layers (contrib)](https://www.tensorflow.org/api_guides/python/contrib.layers) packages for this layer. For more of a challenge, only use other TensorFlow packages."
   ]
  },
  {
   "cell_type": "code",
   "execution_count": 6,
   "metadata": {
    "collapsed": false,
    "deletable": true,
    "editable": true
   },
   "outputs": [
    {
     "name": "stdout",
     "output_type": "stream",
     "text": [
      "Tests Passed\n"
     ]
    }
   ],
   "source": [
    "def fully_conn(x_tensor, num_outputs):\n",
    "    \"\"\"\n",
    "    Apply a fully connected layer to x_tensor using weight and bias\n",
    "    : x_tensor: A 2-D tensor where the first dimension is batch size.\n",
    "    : num_outputs: The number of output that the new tensor should be.\n",
    "    : return: A 2-D tensor where the second dimension is num_outputs.\n",
    "    \"\"\"\n",
    "    # TODO: Implement Function\n",
    "    shape = x_tensor.get_shape().as_list()\n",
    "    dim = int(shape[1])\n",
    "    weights = tf.Variable(tf.random_normal([dim, num_outputs]))\n",
    "    bias = tf.Variable(tf.random_normal([num_outputs]))\n",
    "    fc = tf.add(tf.matmul(x_tensor, weights), bias)\n",
    "    return fc\n",
    "\n",
    "\n",
    "\"\"\"\n",
    "DON'T MODIFY ANYTHING IN THIS CELL THAT IS BELOW THIS LINE\n",
    "\"\"\"\n",
    "tests.test_fully_conn(fully_conn)"
   ]
  },
  {
   "cell_type": "markdown",
   "metadata": {
    "deletable": true,
    "editable": true
   },
   "source": [
    "### Output Layer\n",
    "Implement the `output` function to apply a fully connected layer to `x_tensor` with the shape (*Batch Size*, *num_outputs*). Shortcut option: you can use classes from the [TensorFlow Layers](https://www.tensorflow.org/api_docs/python/tf/layers) or [TensorFlow Layers (contrib)](https://www.tensorflow.org/api_guides/python/contrib.layers) packages for this layer. For more of a challenge, only use other TensorFlow packages.\n",
    "\n",
    "**Note:** Activation, softmax, or cross entropy should **not** be applied to this."
   ]
  },
  {
   "cell_type": "code",
   "execution_count": 7,
   "metadata": {
    "collapsed": false,
    "deletable": true,
    "editable": true
   },
   "outputs": [
    {
     "name": "stdout",
     "output_type": "stream",
     "text": [
      "Tests Passed\n"
     ]
    }
   ],
   "source": [
    "def output(x_tensor, num_outputs):\n",
    "    \"\"\"\n",
    "    Apply a output layer to x_tensor using weight and bias\n",
    "    : x_tensor: A 2-D tensor where the first dimension is batch size.\n",
    "    : num_outputs: The number of output that the new tensor should be.\n",
    "    : return: A 2-D tensor where the second dimension is num_outputs.\n",
    "    \"\"\"\n",
    "    # TODO: Implement Function\n",
    "    shape = x_tensor.get_shape().as_list()\n",
    "    dim = int(shape[1])\n",
    "    weights = tf.Variable(tf.random_normal([dim, num_outputs]))\n",
    "    bias = tf.Variable(tf.random_normal([num_outputs]))\n",
    "    out = tf.add(tf.matmul(x_tensor, weights), bias)\n",
    "    return out\n",
    "\n",
    "\n",
    "\"\"\"\n",
    "DON'T MODIFY ANYTHING IN THIS CELL THAT IS BELOW THIS LINE\n",
    "\"\"\"\n",
    "tests.test_output(output)"
   ]
  },
  {
   "cell_type": "markdown",
   "metadata": {
    "deletable": true,
    "editable": true
   },
   "source": [
    "### Create Convolutional Model\n",
    "Implement the function `conv_net` to create a convolutional neural network model. The function takes in a batch of images, `x`, and outputs logits.  Use the layers you created above to create this model:\n",
    "\n",
    "* Apply 1, 2, or 3 Convolution and Max Pool layers\n",
    "* Apply a Flatten Layer\n",
    "* Apply 1, 2, or 3 Fully Connected Layers\n",
    "* Apply an Output Layer\n",
    "* Return the output\n",
    "* Apply [TensorFlow's Dropout](https://www.tensorflow.org/api_docs/python/tf/nn/dropout) to one or more layers in the model using `keep_prob`. "
   ]
  },
  {
   "cell_type": "code",
   "execution_count": 87,
   "metadata": {
    "collapsed": false,
    "deletable": true,
    "editable": true
   },
   "outputs": [
    {
     "name": "stdout",
     "output_type": "stream",
     "text": [
      "Neural Network Built!\n"
     ]
    }
   ],
   "source": [
    "def conv_net(x, keep_prob):\n",
    "    \"\"\"\n",
    "    Create a convolutional neural network model\n",
    "    : x: Placeholder tensor that holds image data.\n",
    "    : keep_prob: Placeholder tensor that hold dropout keep probability.\n",
    "    : return: Tensor that represents logits\n",
    "    \"\"\"\n",
    "    # TODO: Apply 1, 2, or 3 Convolution and Max Pool layers\n",
    "    #    Play around with different number of outputs, kernel size and stride\n",
    "    # Function Definition from Above:\n",
    "    #    conv2d_maxpool(x_tensor, conv_num_outputs, conv_ksize, conv_strides, pool_ksize, pool_strides)\n",
    "    conv_num_outputs = 32\n",
    "    conv_num_outputs2 = 64\n",
    "    conv_num_outputs3 = 128\n",
    "    conv_ksize = [2, 2]\n",
    "    conv_strides = [1, 2, 2, 1]\n",
    "    pool_ksize = [2, 2]\n",
    "    pool_strides = [1, 2, 2, 1]\n",
    "    conv1 = conv2d_maxpool(x, conv_num_outputs, conv_ksize, conv_strides, pool_ksize, pool_strides)\n",
    "    #conv1 = tf.nn.dropout(conv1, keep_prob)\n",
    "    \n",
    "    conv2 = conv2d_maxpool(x, conv_num_outputs2, conv_ksize, conv_strides, pool_ksize, pool_strides)\n",
    "    #conv2 = tf.nn.dropout(conv2, keep_prob)\n",
    "    \n",
    "    conv3 = conv2d_maxpool(x, conv_num_outputs3, conv_ksize, conv_strides, pool_ksize, pool_strides)\n",
    "    #conv3 = tf.nn.dropout(conv3, keep_prob)\n",
    "\n",
    "    # TODO: Apply a Flatten Layer\n",
    "    # Function Definition from Above:\n",
    "    #   flatten(x_tensor)\n",
    "    flat = flatten(conv3)\n",
    "\n",
    "    # TODO: Apply 1, 2, or 3 Fully Connected Layers\n",
    "    #    Play around with different number of outputs\n",
    "    # Function Definition from Above:\n",
    "    #   fully_conn(x_tensor, num_outputs)\n",
    "    fc1 = fully_conn(flat, 512)\n",
    "    fc1 = tf.nn.dropout(fc1, keep_prob)\n",
    "    \n",
    "    fc2 = fully_conn(fc1, 256)\n",
    "    #fc2 = tf.nn.dropout(fc2, keep_prob)\n",
    "    \n",
    "    fc3 = fully_conn(fc2, 128)\n",
    "    #fc3 = tf.nn.dropout(fc3, keep_prob)\n",
    "    \n",
    "    fc4 = fully_conn(fc3, 64)\n",
    "    # TODO: Apply an Output Layer\n",
    "    #    Set this to the number of classes\n",
    "    # Function Definition from Above:\n",
    "    #   output(x_tensor, num_outputs)\n",
    "    out = output(fc4, 10)\n",
    "    \n",
    "    # TODO: return output\n",
    "    return out\n",
    "\n",
    "\n",
    "\"\"\"\n",
    "DON'T MODIFY ANYTHING IN THIS CELL THAT IS BELOW THIS LINE\n",
    "\"\"\"\n",
    "\n",
    "##############################\n",
    "## Build the Neural Network ##\n",
    "##############################\n",
    "\n",
    "# Remove previous weights, bias, inputs, etc..\n",
    "tf.reset_default_graph()\n",
    "\n",
    "# Inputs\n",
    "x = neural_net_image_input((32, 32, 3))\n",
    "y = neural_net_label_input(10)\n",
    "keep_prob = neural_net_keep_prob_input()\n",
    "\n",
    "# Model\n",
    "logits = conv_net(x, keep_prob)\n",
    "\n",
    "# Name logits Tensor, so that is can be loaded from disk after training\n",
    "logits = tf.identity(logits, name='logits')\n",
    "\n",
    "# Loss and Optimizer\n",
    "cost = tf.reduce_mean(tf.nn.softmax_cross_entropy_with_logits(logits=logits, labels=y))\n",
    "optimizer = tf.train.AdamOptimizer().minimize(cost)\n",
    "\n",
    "# Accuracy\n",
    "correct_pred = tf.equal(tf.argmax(logits, 1), tf.argmax(y, 1))\n",
    "accuracy = tf.reduce_mean(tf.cast(correct_pred, tf.float32), name='accuracy')\n",
    "\n",
    "tests.test_conv_net(conv_net)"
   ]
  },
  {
   "cell_type": "markdown",
   "metadata": {
    "deletable": true,
    "editable": true
   },
   "source": [
    "## Train the Neural Network\n",
    "### Single Optimization\n",
    "Implement the function `train_neural_network` to do a single optimization.  The optimization should use `optimizer` to optimize in `session` with a `feed_dict` of the following:\n",
    "* `x` for image input\n",
    "* `y` for labels\n",
    "* `keep_prob` for keep probability for dropout\n",
    "\n",
    "This function will be called for each batch, so `tf.global_variables_initializer()` has already been called.\n",
    "\n",
    "Note: Nothing needs to be returned. This function is only optimizing the neural network."
   ]
  },
  {
   "cell_type": "code",
   "execution_count": 9,
   "metadata": {
    "collapsed": false,
    "deletable": true,
    "editable": true
   },
   "outputs": [
    {
     "name": "stdout",
     "output_type": "stream",
     "text": [
      "Tests Passed\n"
     ]
    }
   ],
   "source": [
    "def train_neural_network(session, optimizer, keep_probability, feature_batch, label_batch):\n",
    "    \"\"\"\n",
    "    Optimize the session on a batch of images and labels\n",
    "    : session: Current TensorFlow session\n",
    "    : optimizer: TensorFlow optimizer function\n",
    "    : keep_probability: keep probability\n",
    "    : feature_batch: Batch of Numpy image data\n",
    "    : label_batch: Batch of Numpy label data\n",
    "    \"\"\"\n",
    "    # TODO: Implement Function\n",
    "    session.run(optimizer, feed_dict={\n",
    "                x: feature_batch,\n",
    "                y: label_batch,\n",
    "                keep_prob: keep_probability}) \n",
    "    pass\n",
    "\n",
    "\n",
    "\"\"\"\n",
    "DON'T MODIFY ANYTHING IN THIS CELL THAT IS BELOW THIS LINE\n",
    "\"\"\"\n",
    "tests.test_train_nn(train_neural_network)"
   ]
  },
  {
   "cell_type": "markdown",
   "metadata": {
    "deletable": true,
    "editable": true
   },
   "source": [
    "### Show Stats\n",
    "Implement the function `print_stats` to print loss and validation accuracy.  Use the global variables `valid_features` and `valid_labels` to calculate validation accuracy.  Use a keep probability of `1.0` to calculate the loss and validation accuracy."
   ]
  },
  {
   "cell_type": "code",
   "execution_count": 11,
   "metadata": {
    "collapsed": false,
    "deletable": true,
    "editable": true
   },
   "outputs": [],
   "source": [
    "def print_stats(session, feature_batch, label_batch, cost, accuracy):\n",
    "    \"\"\"\n",
    "    Print information about loss and validation accuracy\n",
    "    : session: Current TensorFlow session\n",
    "    : feature_batch: Batch of Numpy image data\n",
    "    : label_batch: Batch of Numpy label data\n",
    "    : cost: TensorFlow cost function\n",
    "    : accuracy: TensorFlow accuracy function\n",
    "    \"\"\"\n",
    "    # TODO: Implement Function\n",
    "    loss = session.run(cost, feed_dict={\n",
    "        x: feature_batch,\n",
    "        y: label_batch,\n",
    "        keep_prob: 1.})\n",
    "    valid_acc = session.run(accuracy, feed_dict={\n",
    "        x: valid_features,\n",
    "        y: valid_labels,\n",
    "        keep_prob: 1.})\n",
    "\n",
    "    print('Loss: {:>10.4f} Validation Accuracy: {:.6f}'.format(loss, valid_acc))"
   ]
  },
  {
   "cell_type": "markdown",
   "metadata": {
    "deletable": true,
    "editable": true
   },
   "source": [
    "### Hyperparameters\n",
    "Tune the following parameters:\n",
    "* Set `epochs` to the number of iterations until the network stops learning or start overfitting\n",
    "* Set `batch_size` to the highest number that your machine has memory for.  Most people set them to common sizes of memory:\n",
    " * 64\n",
    " * 128\n",
    " * 256\n",
    " * ...\n",
    "* Set `keep_probability` to the probability of keeping a node using dropout"
   ]
  },
  {
   "cell_type": "code",
   "execution_count": 83,
   "metadata": {
    "collapsed": true,
    "deletable": true,
    "editable": true
   },
   "outputs": [],
   "source": [
    "# TODO: Tune Parameters\n",
    "epochs = 30\n",
    "batch_size = 512\n",
    "keep_probability = 0.5"
   ]
  },
  {
   "cell_type": "markdown",
   "metadata": {
    "deletable": true,
    "editable": true
   },
   "source": [
    "### Train on a Single CIFAR-10 Batch\n",
    "Instead of training the neural network on all the CIFAR-10 batches of data, let's use a single batch. This should save time while you iterate on the model to get a better accuracy.  Once the final validation accuracy is 50% or greater, run the model on all the data in the next section."
   ]
  },
  {
   "cell_type": "code",
   "execution_count": 88,
   "metadata": {
    "collapsed": false,
    "deletable": true,
    "editable": true
   },
   "outputs": [
    {
     "name": "stdout",
     "output_type": "stream",
     "text": [
      "Checking the Training on a Single Batch...\n",
      "Epoch  1, CIFAR-10 Batch 1:  Loss: 2870687.0000 Validation Accuracy: 0.192200\n",
      "Epoch  2, CIFAR-10 Batch 1:  Loss: 1998047.5000 Validation Accuracy: 0.271800\n",
      "Epoch  3, CIFAR-10 Batch 1:  Loss: 1508601.1250 Validation Accuracy: 0.318400\n",
      "Epoch  4, CIFAR-10 Batch 1:  Loss: 1167705.7500 Validation Accuracy: 0.351400\n",
      "Epoch  5, CIFAR-10 Batch 1:  Loss: 1045227.6250 Validation Accuracy: 0.353400\n",
      "Epoch  6, CIFAR-10 Batch 1:  Loss: 877700.6250 Validation Accuracy: 0.372000\n",
      "Epoch  7, CIFAR-10 Batch 1:  Loss: 783911.7500 Validation Accuracy: 0.388800\n",
      "Epoch  8, CIFAR-10 Batch 1:  Loss: 675215.1875 Validation Accuracy: 0.411600\n",
      "Epoch  9, CIFAR-10 Batch 1:  Loss: 594126.5625 Validation Accuracy: 0.415600\n",
      "Epoch 10, CIFAR-10 Batch 1:  Loss: 526415.6875 Validation Accuracy: 0.423400\n",
      "Epoch 11, CIFAR-10 Batch 1:  Loss: 478552.0938 Validation Accuracy: 0.439800\n",
      "Epoch 12, CIFAR-10 Batch 1:  Loss: 428611.4688 Validation Accuracy: 0.445800\n",
      "Epoch 13, CIFAR-10 Batch 1:  Loss: 398388.4375 Validation Accuracy: 0.453400\n",
      "Epoch 14, CIFAR-10 Batch 1:  Loss: 349945.1875 Validation Accuracy: 0.460200\n",
      "Epoch 15, CIFAR-10 Batch 1:  Loss: 336557.9688 Validation Accuracy: 0.450600\n",
      "Epoch 16, CIFAR-10 Batch 1:  Loss: 292120.0938 Validation Accuracy: 0.473600\n",
      "Epoch 17, CIFAR-10 Batch 1:  Loss: 280676.4375 Validation Accuracy: 0.478600\n",
      "Epoch 18, CIFAR-10 Batch 1:  Loss: 269301.1562 Validation Accuracy: 0.481400\n",
      "Epoch 19, CIFAR-10 Batch 1:  Loss: 266189.1875 Validation Accuracy: 0.478800\n",
      "Epoch 20, CIFAR-10 Batch 1:  Loss: 229663.3750 Validation Accuracy: 0.490600\n",
      "Epoch 21, CIFAR-10 Batch 1:  Loss: 207958.8906 Validation Accuracy: 0.491400\n",
      "Epoch 22, CIFAR-10 Batch 1:  Loss: 184060.5000 Validation Accuracy: 0.493000\n",
      "Epoch 23, CIFAR-10 Batch 1:  Loss: 201735.1406 Validation Accuracy: 0.495200\n",
      "Epoch 24, CIFAR-10 Batch 1:  Loss: 170439.0312 Validation Accuracy: 0.494400\n",
      "Epoch 25, CIFAR-10 Batch 1:  Loss: 153399.3750 Validation Accuracy: 0.500000\n",
      "Epoch 26, CIFAR-10 Batch 1:  Loss: 143149.7656 Validation Accuracy: 0.505000\n",
      "Epoch 27, CIFAR-10 Batch 1:  Loss: 143051.9844 Validation Accuracy: 0.503200\n",
      "Epoch 28, CIFAR-10 Batch 1:  Loss: 132307.4688 Validation Accuracy: 0.510200\n",
      "Epoch 29, CIFAR-10 Batch 1:  Loss: 122377.9688 Validation Accuracy: 0.498600\n",
      "Epoch 30, CIFAR-10 Batch 1:  Loss: 111904.1719 Validation Accuracy: 0.515000\n"
     ]
    }
   ],
   "source": [
    "\"\"\"\n",
    "DON'T MODIFY ANYTHING IN THIS CELL\n",
    "\"\"\"\n",
    "print('Checking the Training on a Single Batch...')\n",
    "with tf.Session() as sess:\n",
    "    # Initializing the variables\n",
    "    sess.run(tf.global_variables_initializer())\n",
    "    \n",
    "    # Training cycle\n",
    "    for epoch in range(epochs):\n",
    "        batch_i = 1\n",
    "        for batch_features, batch_labels in helper.load_preprocess_training_batch(batch_i, batch_size):\n",
    "            train_neural_network(sess, optimizer, keep_probability, batch_features, batch_labels)\n",
    "        print('Epoch {:>2}, CIFAR-10 Batch {}:  '.format(epoch + 1, batch_i), end='')\n",
    "        print_stats(sess, batch_features, batch_labels, cost, accuracy)"
   ]
  },
  {
   "cell_type": "markdown",
   "metadata": {
    "deletable": true,
    "editable": true
   },
   "source": [
    "### Fully Train the Model\n",
    "Now that you got a good accuracy with a single CIFAR-10 batch, try it with all five batches."
   ]
  },
  {
   "cell_type": "code",
   "execution_count": 89,
   "metadata": {
    "collapsed": false,
    "deletable": true,
    "editable": true
   },
   "outputs": [
    {
     "name": "stdout",
     "output_type": "stream",
     "text": [
      "Training...\n",
      "Epoch  1, CIFAR-10 Batch 1:  Loss: 3800091.5000 Validation Accuracy: 0.172400\n",
      "Epoch  1, CIFAR-10 Batch 2:  Loss: 2005058.0000 Validation Accuracy: 0.257200\n",
      "Epoch  1, CIFAR-10 Batch 3:  Loss: 1672662.8750 Validation Accuracy: 0.288600\n",
      "Epoch  1, CIFAR-10 Batch 4:  Loss: 1332306.3750 Validation Accuracy: 0.318400\n",
      "Epoch  1, CIFAR-10 Batch 5:  Loss: 1259577.8750 Validation Accuracy: 0.340800\n",
      "Epoch  2, CIFAR-10 Batch 1:  Loss: 1214086.0000 Validation Accuracy: 0.361000\n",
      "Epoch  2, CIFAR-10 Batch 2:  Loss: 1055984.5000 Validation Accuracy: 0.351200\n",
      "Epoch  2, CIFAR-10 Batch 3:  Loss: 818317.7500 Validation Accuracy: 0.376600\n",
      "Epoch  2, CIFAR-10 Batch 4:  Loss: 747678.3125 Validation Accuracy: 0.385400\n",
      "Epoch  2, CIFAR-10 Batch 5:  Loss: 807311.3750 Validation Accuracy: 0.399400\n",
      "Epoch  3, CIFAR-10 Batch 1:  Loss: 767923.1875 Validation Accuracy: 0.405200\n",
      "Epoch  3, CIFAR-10 Batch 2:  Loss: 571230.2500 Validation Accuracy: 0.417800\n",
      "Epoch  3, CIFAR-10 Batch 3:  Loss: 505098.5625 Validation Accuracy: 0.434800\n",
      "Epoch  3, CIFAR-10 Batch 4:  Loss: 523179.3125 Validation Accuracy: 0.425600\n",
      "Epoch  3, CIFAR-10 Batch 5:  Loss: 500697.0625 Validation Accuracy: 0.449600\n",
      "Epoch  4, CIFAR-10 Batch 1:  Loss: 501758.9375 Validation Accuracy: 0.443400\n",
      "Epoch  4, CIFAR-10 Batch 2:  Loss: 383553.8125 Validation Accuracy: 0.462000\n",
      "Epoch  4, CIFAR-10 Batch 3:  Loss: 366196.3750 Validation Accuracy: 0.459000\n",
      "Epoch  4, CIFAR-10 Batch 4:  Loss: 360211.7188 Validation Accuracy: 0.460200\n",
      "Epoch  4, CIFAR-10 Batch 5:  Loss: 351197.5938 Validation Accuracy: 0.476800\n",
      "Epoch  5, CIFAR-10 Batch 1:  Loss: 367374.1562 Validation Accuracy: 0.481800\n",
      "Epoch  5, CIFAR-10 Batch 2:  Loss: 282054.5625 Validation Accuracy: 0.488200\n",
      "Epoch  5, CIFAR-10 Batch 3:  Loss: 248735.4531 Validation Accuracy: 0.488000\n",
      "Epoch  5, CIFAR-10 Batch 4:  Loss: 247650.4062 Validation Accuracy: 0.491200\n",
      "Epoch  5, CIFAR-10 Batch 5:  Loss: 287567.8125 Validation Accuracy: 0.483400\n",
      "Epoch  6, CIFAR-10 Batch 1:  Loss: 306811.5312 Validation Accuracy: 0.492200\n",
      "Epoch  6, CIFAR-10 Batch 2:  Loss: 215766.4375 Validation Accuracy: 0.488400\n",
      "Epoch  6, CIFAR-10 Batch 3:  Loss: 183757.0625 Validation Accuracy: 0.506400\n",
      "Epoch  6, CIFAR-10 Batch 4:  Loss: 203945.0781 Validation Accuracy: 0.497800\n",
      "Epoch  6, CIFAR-10 Batch 5:  Loss: 212452.0625 Validation Accuracy: 0.506600\n",
      "Epoch  7, CIFAR-10 Batch 1:  Loss: 230674.2031 Validation Accuracy: 0.515600\n",
      "Epoch  7, CIFAR-10 Batch 2:  Loss: 174722.9688 Validation Accuracy: 0.506800\n",
      "Epoch  7, CIFAR-10 Batch 3:  Loss: 139722.7344 Validation Accuracy: 0.520000\n",
      "Epoch  7, CIFAR-10 Batch 4:  Loss: 162064.6719 Validation Accuracy: 0.517000\n",
      "Epoch  7, CIFAR-10 Batch 5:  Loss: 175519.8281 Validation Accuracy: 0.513000\n",
      "Epoch  8, CIFAR-10 Batch 1:  Loss: 190182.8594 Validation Accuracy: 0.516200\n",
      "Epoch  8, CIFAR-10 Batch 2:  Loss: 134398.0312 Validation Accuracy: 0.521400\n",
      "Epoch  8, CIFAR-10 Batch 3:  Loss: 116775.6328 Validation Accuracy: 0.523600\n",
      "Epoch  8, CIFAR-10 Batch 4:  Loss: 131797.6562 Validation Accuracy: 0.530000\n",
      "Epoch  8, CIFAR-10 Batch 5:  Loss: 137033.2969 Validation Accuracy: 0.532800\n",
      "Epoch  9, CIFAR-10 Batch 1:  Loss: 150794.9375 Validation Accuracy: 0.523400\n",
      "Epoch  9, CIFAR-10 Batch 2:  Loss: 112424.9062 Validation Accuracy: 0.515600\n",
      "Epoch  9, CIFAR-10 Batch 3:  Loss: 91487.7344 Validation Accuracy: 0.536200\n",
      "Epoch  9, CIFAR-10 Batch 4:  Loss: 106607.8750 Validation Accuracy: 0.535600\n",
      "Epoch  9, CIFAR-10 Batch 5:  Loss: 105071.7109 Validation Accuracy: 0.539400\n",
      "Epoch 10, CIFAR-10 Batch 1:  Loss: 124182.9922 Validation Accuracy: 0.535000\n",
      "Epoch 10, CIFAR-10 Batch 2:  Loss: 87721.5703 Validation Accuracy: 0.543000\n",
      "Epoch 10, CIFAR-10 Batch 3:  Loss: 75996.2969 Validation Accuracy: 0.537200\n",
      "Epoch 10, CIFAR-10 Batch 4:  Loss: 88249.4609 Validation Accuracy: 0.539800\n",
      "Epoch 10, CIFAR-10 Batch 5:  Loss: 90724.0156 Validation Accuracy: 0.542800\n",
      "Epoch 11, CIFAR-10 Batch 1:  Loss: 98134.6875 Validation Accuracy: 0.542600\n",
      "Epoch 11, CIFAR-10 Batch 2:  Loss: 76606.2891 Validation Accuracy: 0.538600\n",
      "Epoch 11, CIFAR-10 Batch 3:  Loss: 63189.5195 Validation Accuracy: 0.541000\n",
      "Epoch 11, CIFAR-10 Batch 4:  Loss: 75133.8516 Validation Accuracy: 0.540800\n",
      "Epoch 11, CIFAR-10 Batch 5:  Loss: 77473.9219 Validation Accuracy: 0.544600\n",
      "Epoch 12, CIFAR-10 Batch 1:  Loss: 83508.4062 Validation Accuracy: 0.548600\n",
      "Epoch 12, CIFAR-10 Batch 2:  Loss: 61801.7109 Validation Accuracy: 0.543400\n",
      "Epoch 12, CIFAR-10 Batch 3:  Loss: 56974.9492 Validation Accuracy: 0.538400\n",
      "Epoch 12, CIFAR-10 Batch 4:  Loss: 62083.2695 Validation Accuracy: 0.549400\n",
      "Epoch 12, CIFAR-10 Batch 5:  Loss: 64518.6953 Validation Accuracy: 0.541600\n",
      "Epoch 13, CIFAR-10 Batch 1:  Loss: 72811.8594 Validation Accuracy: 0.543600\n",
      "Epoch 13, CIFAR-10 Batch 2:  Loss: 54339.1016 Validation Accuracy: 0.547400\n",
      "Epoch 13, CIFAR-10 Batch 3:  Loss: 45654.1406 Validation Accuracy: 0.548400\n",
      "Epoch 13, CIFAR-10 Batch 4:  Loss: 55012.5430 Validation Accuracy: 0.542600\n",
      "Epoch 13, CIFAR-10 Batch 5:  Loss: 53831.6523 Validation Accuracy: 0.546600\n",
      "Epoch 14, CIFAR-10 Batch 1:  Loss: 64227.0742 Validation Accuracy: 0.547400\n",
      "Epoch 14, CIFAR-10 Batch 2:  Loss: 47845.8633 Validation Accuracy: 0.544600\n",
      "Epoch 14, CIFAR-10 Batch 3:  Loss: 36862.7773 Validation Accuracy: 0.547800\n",
      "Epoch 14, CIFAR-10 Batch 4:  Loss: 48240.2578 Validation Accuracy: 0.545400\n",
      "Epoch 14, CIFAR-10 Batch 5:  Loss: 45811.9609 Validation Accuracy: 0.549200\n",
      "Epoch 15, CIFAR-10 Batch 1:  Loss: 56146.9492 Validation Accuracy: 0.545600\n",
      "Epoch 15, CIFAR-10 Batch 2:  Loss: 38871.3672 Validation Accuracy: 0.544200\n",
      "Epoch 15, CIFAR-10 Batch 3:  Loss: 35103.6016 Validation Accuracy: 0.548400\n",
      "Epoch 15, CIFAR-10 Batch 4:  Loss: 40138.0469 Validation Accuracy: 0.552600\n",
      "Epoch 15, CIFAR-10 Batch 5:  Loss: 38098.1328 Validation Accuracy: 0.554200\n",
      "Epoch 16, CIFAR-10 Batch 1:  Loss: 44587.6055 Validation Accuracy: 0.553200\n",
      "Epoch 16, CIFAR-10 Batch 2:  Loss: 34293.2617 Validation Accuracy: 0.551800\n",
      "Epoch 16, CIFAR-10 Batch 3:  Loss: 25265.5645 Validation Accuracy: 0.559800\n",
      "Epoch 16, CIFAR-10 Batch 4:  Loss: 35786.9609 Validation Accuracy: 0.555400\n",
      "Epoch 16, CIFAR-10 Batch 5:  Loss: 34633.9844 Validation Accuracy: 0.555000\n",
      "Epoch 17, CIFAR-10 Batch 1:  Loss: 41584.6641 Validation Accuracy: 0.552200\n",
      "Epoch 17, CIFAR-10 Batch 2:  Loss: 29363.0898 Validation Accuracy: 0.550800\n",
      "Epoch 17, CIFAR-10 Batch 3:  Loss: 23865.6309 Validation Accuracy: 0.554800\n",
      "Epoch 17, CIFAR-10 Batch 4:  Loss: 29971.9336 Validation Accuracy: 0.548200\n",
      "Epoch 17, CIFAR-10 Batch 5:  Loss: 29109.3125 Validation Accuracy: 0.553800\n",
      "Epoch 18, CIFAR-10 Batch 1:  Loss: 33612.1094 Validation Accuracy: 0.551800\n",
      "Epoch 18, CIFAR-10 Batch 2:  Loss: 25436.8496 Validation Accuracy: 0.550600\n",
      "Epoch 18, CIFAR-10 Batch 3:  Loss: 20195.7402 Validation Accuracy: 0.550800\n",
      "Epoch 18, CIFAR-10 Batch 4:  Loss: 28347.3281 Validation Accuracy: 0.543800\n",
      "Epoch 18, CIFAR-10 Batch 5:  Loss: 26088.9258 Validation Accuracy: 0.541400\n",
      "Epoch 19, CIFAR-10 Batch 1:  Loss: 29034.5586 Validation Accuracy: 0.550800\n",
      "Epoch 19, CIFAR-10 Batch 2:  Loss: 21335.2578 Validation Accuracy: 0.554600\n",
      "Epoch 19, CIFAR-10 Batch 3:  Loss: 18153.2461 Validation Accuracy: 0.553800\n",
      "Epoch 19, CIFAR-10 Batch 4:  Loss: 24402.2012 Validation Accuracy: 0.547000\n",
      "Epoch 19, CIFAR-10 Batch 5:  Loss: 22337.5254 Validation Accuracy: 0.553800\n",
      "Epoch 20, CIFAR-10 Batch 1:  Loss: 25993.5039 Validation Accuracy: 0.549400\n",
      "Epoch 20, CIFAR-10 Batch 2:  Loss: 19306.9883 Validation Accuracy: 0.548200\n",
      "Epoch 20, CIFAR-10 Batch 3:  Loss: 17086.6875 Validation Accuracy: 0.549400\n",
      "Epoch 20, CIFAR-10 Batch 4:  Loss: 20551.8711 Validation Accuracy: 0.556200\n",
      "Epoch 20, CIFAR-10 Batch 5:  Loss: 19522.4609 Validation Accuracy: 0.557200\n",
      "Epoch 21, CIFAR-10 Batch 1:  Loss: 22026.9219 Validation Accuracy: 0.553400\n",
      "Epoch 21, CIFAR-10 Batch 2:  Loss: 17109.5137 Validation Accuracy: 0.540600\n",
      "Epoch 21, CIFAR-10 Batch 3:  Loss: 13613.8320 Validation Accuracy: 0.550600\n",
      "Epoch 21, CIFAR-10 Batch 4:  Loss: 17718.4883 Validation Accuracy: 0.545800\n",
      "Epoch 21, CIFAR-10 Batch 5:  Loss: 18030.3418 Validation Accuracy: 0.549400\n",
      "Epoch 22, CIFAR-10 Batch 1:  Loss: 19620.5645 Validation Accuracy: 0.547400\n",
      "Epoch 22, CIFAR-10 Batch 2:  Loss: 15055.0645 Validation Accuracy: 0.547200\n",
      "Epoch 22, CIFAR-10 Batch 3:  Loss: 12188.8496 Validation Accuracy: 0.545600\n",
      "Epoch 22, CIFAR-10 Batch 4:  Loss: 16475.4551 Validation Accuracy: 0.550200\n",
      "Epoch 22, CIFAR-10 Batch 5:  Loss: 15353.4248 Validation Accuracy: 0.549200\n",
      "Epoch 23, CIFAR-10 Batch 1:  Loss: 16278.7266 Validation Accuracy: 0.544600\n",
      "Epoch 23, CIFAR-10 Batch 2:  Loss: 13813.3857 Validation Accuracy: 0.546000\n",
      "Epoch 23, CIFAR-10 Batch 3:  Loss: 10327.4141 Validation Accuracy: 0.546400\n",
      "Epoch 23, CIFAR-10 Batch 4:  Loss: 13901.9189 Validation Accuracy: 0.554800\n",
      "Epoch 23, CIFAR-10 Batch 5:  Loss: 13480.7881 Validation Accuracy: 0.545800\n",
      "Epoch 24, CIFAR-10 Batch 1:  Loss: 14491.3984 Validation Accuracy: 0.545800\n",
      "Epoch 24, CIFAR-10 Batch 2:  Loss: 12023.7930 Validation Accuracy: 0.541600\n",
      "Epoch 24, CIFAR-10 Batch 3:  Loss:  9163.2080 Validation Accuracy: 0.537800\n",
      "Epoch 24, CIFAR-10 Batch 4:  Loss: 12507.7578 Validation Accuracy: 0.542200\n",
      "Epoch 24, CIFAR-10 Batch 5:  Loss: 11634.0488 Validation Accuracy: 0.538400\n",
      "Epoch 25, CIFAR-10 Batch 1:  Loss: 13494.6543 Validation Accuracy: 0.534000\n",
      "Epoch 25, CIFAR-10 Batch 2:  Loss:  9740.9668 Validation Accuracy: 0.543800\n",
      "Epoch 25, CIFAR-10 Batch 3:  Loss:  9495.4502 Validation Accuracy: 0.534600\n",
      "Epoch 25, CIFAR-10 Batch 4:  Loss: 10392.7109 Validation Accuracy: 0.534800\n",
      "Epoch 25, CIFAR-10 Batch 5:  Loss: 10461.2383 Validation Accuracy: 0.537400\n",
      "Epoch 26, CIFAR-10 Batch 1:  Loss: 11944.0156 Validation Accuracy: 0.547400\n",
      "Epoch 26, CIFAR-10 Batch 2:  Loss:  9429.1338 Validation Accuracy: 0.538600\n",
      "Epoch 26, CIFAR-10 Batch 3:  Loss:  7881.0195 Validation Accuracy: 0.534000\n",
      "Epoch 26, CIFAR-10 Batch 4:  Loss:  9042.7314 Validation Accuracy: 0.531200\n",
      "Epoch 26, CIFAR-10 Batch 5:  Loss:  8918.0186 Validation Accuracy: 0.527800\n",
      "Epoch 27, CIFAR-10 Batch 1:  Loss: 10307.2949 Validation Accuracy: 0.536600\n",
      "Epoch 27, CIFAR-10 Batch 2:  Loss:  8822.8447 Validation Accuracy: 0.535600\n",
      "Epoch 27, CIFAR-10 Batch 3:  Loss:  7617.1084 Validation Accuracy: 0.532000\n",
      "Epoch 27, CIFAR-10 Batch 4:  Loss:  8232.2617 Validation Accuracy: 0.522400\n",
      "Epoch 27, CIFAR-10 Batch 5:  Loss:  7910.3242 Validation Accuracy: 0.533800\n",
      "Epoch 28, CIFAR-10 Batch 1:  Loss:  9400.9424 Validation Accuracy: 0.528000\n",
      "Epoch 28, CIFAR-10 Batch 2:  Loss:  7937.3447 Validation Accuracy: 0.536200\n",
      "Epoch 28, CIFAR-10 Batch 3:  Loss:  5754.0283 Validation Accuracy: 0.527600\n",
      "Epoch 28, CIFAR-10 Batch 4:  Loss:  7528.0664 Validation Accuracy: 0.528600\n",
      "Epoch 28, CIFAR-10 Batch 5:  Loss:  8067.1445 Validation Accuracy: 0.527600\n",
      "Epoch 29, CIFAR-10 Batch 1:  Loss:  9653.3359 Validation Accuracy: 0.512600\n",
      "Epoch 29, CIFAR-10 Batch 2:  Loss:  6966.1851 Validation Accuracy: 0.523800\n",
      "Epoch 29, CIFAR-10 Batch 3:  Loss:  5769.1426 Validation Accuracy: 0.529000\n",
      "Epoch 29, CIFAR-10 Batch 4:  Loss:  6633.1138 Validation Accuracy: 0.524800\n",
      "Epoch 29, CIFAR-10 Batch 5:  Loss:  6670.1396 Validation Accuracy: 0.527600\n",
      "Epoch 30, CIFAR-10 Batch 1:  Loss:  7559.3413 Validation Accuracy: 0.532400\n",
      "Epoch 30, CIFAR-10 Batch 2:  Loss:  5874.2021 Validation Accuracy: 0.522400\n",
      "Epoch 30, CIFAR-10 Batch 3:  Loss:  6421.0146 Validation Accuracy: 0.514800\n",
      "Epoch 30, CIFAR-10 Batch 4:  Loss:  5944.5415 Validation Accuracy: 0.515400\n",
      "Epoch 30, CIFAR-10 Batch 5:  Loss:  5893.4639 Validation Accuracy: 0.518600\n"
     ]
    }
   ],
   "source": [
    "\"\"\"\n",
    "DON'T MODIFY ANYTHING IN THIS CELL\n",
    "\"\"\"\n",
    "save_model_path = './image_classification'\n",
    "\n",
    "print('Training...')\n",
    "with tf.Session() as sess:\n",
    "    # Initializing the variables\n",
    "    sess.run(tf.global_variables_initializer())\n",
    "    \n",
    "    # Training cycle\n",
    "    for epoch in range(epochs):\n",
    "        # Loop over all batches\n",
    "        n_batches = 5\n",
    "        for batch_i in range(1, n_batches + 1):\n",
    "            for batch_features, batch_labels in helper.load_preprocess_training_batch(batch_i, batch_size):\n",
    "                train_neural_network(sess, optimizer, keep_probability, batch_features, batch_labels)\n",
    "            print('Epoch {:>2}, CIFAR-10 Batch {}:  '.format(epoch + 1, batch_i), end='')\n",
    "            print_stats(sess, batch_features, batch_labels, cost, accuracy)\n",
    "            \n",
    "    # Save Model\n",
    "    saver = tf.train.Saver()\n",
    "    save_path = saver.save(sess, save_model_path)"
   ]
  },
  {
   "cell_type": "markdown",
   "metadata": {
    "deletable": true,
    "editable": true
   },
   "source": [
    "# Checkpoint\n",
    "The model has been saved to disk.\n",
    "## Test Model\n",
    "Test your model against the test dataset.  This will be your final accuracy. You should have an accuracy greater than 50%. If you don't, keep tweaking the model architecture and parameters."
   ]
  },
  {
   "cell_type": "code",
   "execution_count": 90,
   "metadata": {
    "collapsed": false,
    "deletable": true,
    "editable": true
   },
   "outputs": [
    {
     "name": "stdout",
     "output_type": "stream",
     "text": [
      "Testing Accuracy: 0.5163373172283172\n",
      "\n"
     ]
    },
    {
     "data": {
      "image/png": "[encoded data removed]",
      "text/plain": [
       "<matplotlib.figure.Figure at 0x7fddc0a06f60>"
      ]
     },
     "metadata": {
      "image/png": {
       "height": 319,
       "width": 349
      }
     },
     "output_type": "display_data"
    }
   ],
   "source": [
    "\"\"\"\n",
    "DON'T MODIFY ANYTHING IN THIS CELL\n",
    "\"\"\"\n",
    "%matplotlib inline\n",
    "%config InlineBackend.figure_format = 'retina'\n",
    "\n",
    "import tensorflow as tf\n",
    "import pickle\n",
    "import helper\n",
    "import random\n",
    "\n",
    "# Set batch size if not already set\n",
    "try:\n",
    "    if batch_size:\n",
    "        pass\n",
    "except NameError:\n",
    "    batch_size = 64\n",
    "\n",
    "save_model_path = './image_classification'\n",
    "n_samples = 4\n",
    "top_n_predictions = 3\n",
    "\n",
    "def test_model():\n",
    "    \"\"\"\n",
    "    Test the saved model against the test dataset\n",
    "    \"\"\"\n",
    "\n",
    "    test_features, test_labels = pickle.load(open('preprocess_training.p', mode='rb'))\n",
    "    loaded_graph = tf.Graph()\n",
    "\n",
    "    with tf.Session(graph=loaded_graph) as sess:\n",
    "        # Load model\n",
    "        loader = tf.train.import_meta_graph(save_model_path + '.meta')\n",
    "        loader.restore(sess, save_model_path)\n",
    "\n",
    "        # Get Tensors from loaded model\n",
    "        loaded_x = loaded_graph.get_tensor_by_name('x:0')\n",
    "        loaded_y = loaded_graph.get_tensor_by_name('y:0')\n",
    "        loaded_keep_prob = loaded_graph.get_tensor_by_name('keep_prob:0')\n",
    "        loaded_logits = loaded_graph.get_tensor_by_name('logits:0')\n",
    "        loaded_acc = loaded_graph.get_tensor_by_name('accuracy:0')\n",
    "        \n",
    "        # Get accuracy in batches for memory limitations\n",
    "        test_batch_acc_total = 0\n",
    "        test_batch_count = 0\n",
    "        \n",
    "        for train_feature_batch, train_label_batch in helper.batch_features_labels(test_features, test_labels, batch_size):\n",
    "            test_batch_acc_total += sess.run(\n",
    "                loaded_acc,\n",
    "                feed_dict={loaded_x: train_feature_batch, loaded_y: train_label_batch, loaded_keep_prob: 1.0})\n",
    "            test_batch_count += 1\n",
    "\n",
    "        print('Testing Accuracy: {}\\n'.format(test_batch_acc_total/test_batch_count))\n",
    "\n",
    "        # Print Random Samples\n",
    "        random_test_features, random_test_labels = tuple(zip(*random.sample(list(zip(test_features, test_labels)), n_samples)))\n",
    "        random_test_predictions = sess.run(\n",
    "            tf.nn.top_k(tf.nn.softmax(loaded_logits), top_n_predictions),\n",
    "            feed_dict={loaded_x: random_test_features, loaded_y: random_test_labels, loaded_keep_prob: 1.0})\n",
    "        helper.display_image_predictions(random_test_features, random_test_labels, random_test_predictions)\n",
    "\n",
    "\n",
    "test_model()"
   ]
  },
  {
   "cell_type": "markdown",
   "metadata": {
    "deletable": true,
    "editable": true
   },
   "source": [
    "## Why 50-80% Accuracy?\n",
    "You might be wondering why you can't get an accuracy any higher. First things first, 50% isn't bad for a simple CNN.  Pure guessing would get you 10% accuracy. However, you might notice people are getting scores [well above 80%](http://rodrigob.github.io/are_we_there_yet/build/classification_datasets_results.html#43494641522d3130).  That's because we haven't taught you all there is to know about neural networks. We still need to cover a few more techniques.\n",
    "## Submitting This Project\n",
    "When submitting this project, make sure to run all the cells before saving the notebook.  Save the notebook file as \"dlnd_image_classification.ipynb\" and save it as a HTML file under \"File\" -> \"Download as\".  Include the \"helper.py\" and \"problem_unittests.py\" files in your submission."
   ]
  }
 ],
 "metadata": {
  "anaconda-cloud": {},
  "kernelspec": {
   "display_name": "Python 3",
   "language": "python",
   "name": "python3"
  },
  "language_info": {
   "codemirror_mode": {
    "name": "ipython",
    "version": 3
   },
   "file_extension": ".py",
   "mimetype": "text/x-python",
   "name": "python",
   "nbconvert_exporter": "python",
   "pygments_lexer": "ipython3",
   "version": "3.5.2"
  },
  "widgets": {
   "state": {},
   "version": "1.1.2"
  }
 },
 "nbformat": 4,
 "nbformat_minor": 0
}
